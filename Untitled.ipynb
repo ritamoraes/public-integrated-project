{
 "cells": [
  {
   "cell_type": "code",
   "execution_count": 1,
   "metadata": {},
   "outputs": [
    {
     "name": "stdout",
     "output_type": "stream",
     "text": [
      "\u001b[33mDEPRECATION: Python 2.7 will reach the end of its life on January 1st, 2020. Please upgrade your Python as Python 2.7 won't be maintained after that date. A future version of pip will drop support for Python 2.7.\u001b[0m\n",
      "Collecting pandas\n",
      "\u001b[?25l  Downloading https://files.pythonhosted.org/packages/52/ff/912fe03a623a70bcf297d466013a0b4f4c68c3b60f86bf226682d061fc09/pandas-0.24.2-cp27-cp27m-macosx_10_6_intel.macosx_10_9_intel.macosx_10_9_x86_64.macosx_10_10_intel.macosx_10_10_x86_64.whl (16.7MB)\n",
      "\u001b[K    100% |████████████████████████████████| 16.7MB 1.0MB/s eta 0:00:01\n",
      "\u001b[?25hRequirement already satisfied: python-dateutil>=2.5.0 in /Users/Rmoraes/Library/Python/2.7/lib/python/site-packages (from pandas) (2.8.0)\n",
      "Collecting numpy>=1.12.0 (from pandas)\n",
      "  Using cached https://files.pythonhosted.org/packages/8f/0b/1a2c21bb69138337dc079841aa4a45e5b2fc7a4260c0907f5254fb08f02e/numpy-1.16.4-cp27-cp27m-macosx_10_6_intel.macosx_10_9_intel.macosx_10_9_x86_64.macosx_10_10_intel.macosx_10_10_x86_64.whl\n",
      "Requirement already satisfied: pytz>=2011k in /System/Library/Frameworks/Python.framework/Versions/2.7/Extras/lib/python (from pandas) (2013.7)\n",
      "Collecting six>=1.5 (from python-dateutil>=2.5.0->pandas)\n",
      "  Using cached https://files.pythonhosted.org/packages/73/fb/00a976f728d0d1fecfe898238ce23f502a721c0ac0ecfedb80e0d88c64e9/six-1.12.0-py2.py3-none-any.whl\n",
      "Installing collected packages: numpy, pandas, six\n",
      "  Found existing installation: numpy 1.8.0rc1\n",
      "\u001b[31mCannot uninstall 'numpy'. It is a distutils installed project and thus we cannot accurately determine which files belong to it which would lead to only a partial uninstall.\u001b[0m\n"
     ]
    }
   ],
   "source": [
    "!pip install pandas"
   ]
  },
  {
   "cell_type": "code",
   "execution_count": 16,
   "metadata": {},
   "outputs": [
    {
     "name": "stdout",
     "output_type": "stream",
     "text": [
      "['raw_part-00097.csv', 'raw_part-00083.csv', 'raw_part-00068.csv', 'raw_part-00054.csv', 'raw_part-00040.csv', 'raw_part-00041.csv', 'raw_part-00055.csv', 'raw_part-00069.csv', 'raw_part-00082.csv', 'raw_part-00096.csv', 'raw_part-00080.csv', 'raw_part-00094.csv', 'raw_part-00043.csv', 'raw_part-00057.csv', 'raw_part-00056.csv', 'raw_part-00042.csv', 'raw_part-00095.csv', 'raw_part-00081.csv', 'raw_part-00085.csv', 'raw_part-00091.csv', 'raw_part-00046.csv', 'raw_part-00052.csv', 'raw_part-00053.csv', 'raw_part-00047.csv', 'raw_part-00090.csv', 'raw_part-00084.csv', 'raw_part-00092.csv', 'raw_part-00086.csv', 'raw_part-00051.csv', 'raw_part-00045.csv', 'raw_part-00079.csv', 'raw_part-00078.csv', 'raw_part-00044.csv', 'raw_part-00050.csv', 'raw_part-00087.csv', 'raw_part-00093.csv', 'raw_part-00037.csv', 'raw_part-00023.csv', 'raw_part-00022.csv', 'raw_part-00036.csv', 'raw_part-00008.csv', 'raw_part-00020.csv', 'raw_part-00034.csv', 'raw_part-00035.csv', 'raw_part-00021.csv', 'raw_part-00009.csv', 'raw_part-00025.csv', 'raw_part-00031.csv', 'raw_part-00019.csv', 'raw_part-00018.csv', 'raw_part-00030.csv', 'raw_part-00024.csv', 'raw_part-00032.csv', 'raw_part-00026.csv', 'raw_part-00027.csv', 'raw_part-00033.csv', 'raw_part-00016.csv', 'raw_part-00002.csv', 'raw_part-00003.csv', 'raw_part-00017.csv', 'raw_part-00029.csv', 'raw_part-00001.csv', 'raw_part-00015.csv', 'raw_part-00014.csv', 'raw_part-00000.csv', 'raw_part-00028.csv', 'raw_part-00004.csv', 'raw_part-00010.csv', 'raw_part-00038.csv', 'raw_part-00039.csv', 'raw_part-00011.csv', 'raw_part-00005.csv', 'raw_part-00013.csv', 'raw_part-00007.csv', 'raw_part-00006.csv', 'raw_part-00012.csv', 'raw_part-00049.csv', 'raw_part-00075.csv', 'raw_part-00061.csv', '.ipynb_checkpoints', 'raw_part-00060.csv', 'raw_part-00074.csv', 'raw_part-00048.csv', 'raw_part-00089.csv', 'raw_part-00062.csv', 'raw_part-00076.csv', 'raw_part-00077.csv', 'raw_part-00063.csv', 'raw_part-00088.csv', 'raw_part-00098.csv', 'raw_part-00067.csv', 'raw_part-00073.csv', 'raw_part-00072.csv', 'raw_part-00066.csv', 'raw_part-00099.csv', 'raw_part-00070.csv', 'raw_part-00064.csv', 'raw_part-00058.csv', 'raw_part-00059.csv', 'raw_part-00065.csv', 'raw_part-00071.csv']\n"
     ]
    }
   ],
   "source": [
    "import pandas as pd\n",
    "import os\n",
    "\n",
    "listFiles = os.listdir(\"data\")\n",
    "print(listFiles)\n",
    "#data = pd.read_csv(\"data/raw_part-00000.csv\")\n"
   ]
  },
  {
   "cell_type": "code",
   "execution_count": 30,
   "metadata": {
    "scrolled": true
   },
   "outputs": [
    {
     "name": "stderr",
     "output_type": "stream",
     "text": [
      "Skipping line 2979: expected 8 fields, saw 9\n",
      "Skipping line 9303: expected 8 fields, saw 10\n",
      "Skipping line 9959: expected 8 fields, saw 10\n",
      "\n",
      "Skipping line 5968: expected 8 fields, saw 10\n",
      "\n",
      "Skipping line 5339: expected 8 fields, saw 10\n",
      "\n",
      "Skipping line 1804: expected 8 fields, saw 9\n",
      "Skipping line 4270: expected 8 fields, saw 10\n",
      "\n",
      "Skipping line 1548: expected 8 fields, saw 9\n",
      "Skipping line 2882: expected 8 fields, saw 9\n",
      "\n",
      "Skipping line 5333: expected 8 fields, saw 10\n",
      "\n",
      "Skipping line 7421: expected 8 fields, saw 10\n",
      "Skipping line 8944: expected 8 fields, saw 10\n",
      "\n",
      "Skipping line 1047: expected 8 fields, saw 10\n",
      "\n",
      "Skipping line 7168: expected 8 fields, saw 10\n",
      "Skipping line 10300: expected 8 fields, saw 10\n",
      "\n",
      "Skipping line 14068: expected 8 fields, saw 10\n",
      "\n",
      "Skipping line 7956: expected 8 fields, saw 10\n",
      "\n",
      "Skipping line 13967: expected 8 fields, saw 10\n",
      "\n",
      "Skipping line 12982: expected 8 fields, saw 10\n",
      "\n",
      "Skipping line 5657: expected 8 fields, saw 10\n",
      "Skipping line 6402: expected 8 fields, saw 9\n",
      "\n",
      "Skipping line 14639: expected 8 fields, saw 10\n",
      "\n",
      "Skipping line 14785: expected 8 fields, saw 10\n",
      "\n",
      "Skipping line 1665: expected 8 fields, saw 10\n",
      "\n",
      "Skipping line 8742: expected 8 fields, saw 11\n",
      "\n",
      "Skipping line 8661: expected 8 fields, saw 10\n",
      "\n",
      "Skipping line 6784: expected 8 fields, saw 10\n",
      "\n",
      "Skipping line 4614: expected 8 fields, saw 9\n",
      "Skipping line 4677: expected 8 fields, saw 10\n",
      "\n",
      "Skipping line 2897: expected 8 fields, saw 10\n",
      "\n",
      "Skipping line 8865: expected 8 fields, saw 10\n",
      "\n",
      "Skipping line 1132: expected 8 fields, saw 9\n",
      "Skipping line 7419: expected 8 fields, saw 10\n",
      "\n",
      "Skipping line 8923: expected 8 fields, saw 10\n",
      "\n"
     ]
    },
    {
     "name": "stdout",
     "output_type": "stream",
     "text": [
      ".ipynb_checkpoints\n"
     ]
    },
    {
     "name": "stderr",
     "output_type": "stream",
     "text": [
      "Skipping line 14195: expected 8 fields, saw 10\n",
      "\n",
      "Skipping line 4208: expected 8 fields, saw 9\n",
      "Skipping line 14644: expected 8 fields, saw 10\n",
      "\n",
      "Skipping line 1372: expected 8 fields, saw 9\n",
      "\n",
      "Skipping line 5048: expected 8 fields, saw 9\n",
      "\n"
     ]
    }
   ],
   "source": [
    "for f in listFiles:\n",
    "    try:\n",
    "        dataFrame = pd.concat([pd.read_csv(\"data/\"+f, error_bad_lines=False)])\n",
    "    except:\n",
    "        print(f)"
   ]
  },
  {
   "cell_type": "code",
   "execution_count": 31,
   "metadata": {},
   "outputs": [
    {
     "data": {
      "text/plain": [
       "(15015, 8)"
      ]
     },
     "execution_count": 31,
     "metadata": {},
     "output_type": "execute_result"
    }
   ],
   "source": [
    "dataFrame.shape"
   ]
  },
  {
   "cell_type": "code",
   "execution_count": 33,
   "metadata": {},
   "outputs": [
    {
     "data": {
      "text/plain": [
       "encrypted_domain            0\n",
       "encrypted_cnpj              4\n",
       "encrypted_saleid            6\n",
       "dateTime                    7\n",
       "productTotal                7\n",
       "prod_fullname               7\n",
       "encrypted_buyer_cpf      9736\n",
       "encrypted_buyer_cnpj    14646\n",
       "dtype: int64"
      ]
     },
     "execution_count": 33,
     "metadata": {},
     "output_type": "execute_result"
    }
   ],
   "source": [
    "dataFrame.isnull().sum()"
   ]
  },
  {
   "cell_type": "code",
   "execution_count": 35,
   "metadata": {},
   "outputs": [
    {
     "name": "stdout",
     "output_type": "stream",
     "text": [
      "<class 'pandas.core.frame.DataFrame'>\n",
      "RangeIndex: 15015 entries, 0 to 15014\n",
      "Data columns (total 8 columns):\n",
      "encrypted_domain        15015 non-null object\n",
      "encrypted_cnpj          15011 non-null object\n",
      "encrypted_saleid        15009 non-null object\n",
      "dateTime                15008 non-null object\n",
      "productTotal            15008 non-null object\n",
      "prod_fullname           15008 non-null object\n",
      "encrypted_buyer_cpf     5279 non-null object\n",
      "encrypted_buyer_cnpj    369 non-null object\n",
      "dtypes: object(8)\n",
      "memory usage: 938.5+ KB\n"
     ]
    }
   ],
   "source": [
    "dataFrame.info()"
   ]
  },
  {
   "cell_type": "code",
   "execution_count": 37,
   "metadata": {},
   "outputs": [
    {
     "data": {
      "text/plain": [
       "a74a729c7a3d3c0a6c6f59bb07c5                            178\n",
       "21404ebaa0106ca20ae283c89271                            122\n",
       "9cb52749502cb0f9637c44a50fef                            111\n",
       "ff75f738684cf231d31c2506529f                             96\n",
       "cd406b5d1bca06e7ea9cdc74e14b                             91\n",
       "8294ddab503b5f44ca4195f2056a                             90\n",
       "d217627b20f7ab446b8250149f40                             87\n",
       "0105cf9d4c59d77432783092d7a6                             83\n",
       "8315e157d7cca9b85ff2d9844b29                             82\n",
       "48a5387419c185d22c00db88d392                             80\n",
       "0d6e80ed5db6059c93c1d6c1b8cd                             73\n",
       "cb3d1bbe67d77a2d63aa2ce2004f                             68\n",
       "d70a72266986e5c2478a462887ca                             66\n",
       "59a18547f5929aa5dbfca7db947e                             66\n",
       "8ef4d40b852168ea8e3bbc4c89a0                             62\n",
       "03390ba1a5be15099869de8cf39c                             60\n",
       "300e3558d7460c7091bc096e848f                             58\n",
       "2ba3d93c3455a984f4278a0d8271                             58\n",
       "257d4e0ea103caee3f15f1ee6db7                             55\n",
       "30ddd2df870c62b552b4e43e562d                             53\n",
       "70dd13dfb1c65ecb94331b66feb1                             53\n",
       "f7005fc91e674659fc585a904310                             53\n",
       "510766392a95afd41c6bd526381a                             52\n",
       "1e1ac070864ab84b577827593eea                             52\n",
       "acb22589d9f4ed8e9647eaa6f198                             49\n",
       "d454afe9d07ca83d7e9cc8cae51b                             48\n",
       "5b325cfa994fd241f7b38f32cbbd                             47\n",
       "0f988a7502f212615b2a6ca18fae                             47\n",
       "93735eef18147dcf6ec17cbd1fd2                             44\n",
       "9cddb8b88228cd7c4eead0b03bfd                             43\n",
       "                                                       ... \n",
       "079b93e4a4ca2e3439cb1524b117                              1\n",
       "c92d6065632960310b7efd40c1da                              1\n",
       "e88b980f8932e4ec74c648a7993b                              1\n",
       "6f5bbde5370789286a76ed099a9e                              1\n",
       "cd1ee6c60ff64b84747c430cc795                              1\n",
       " levemente quebradiça; seu sabor é acentuado e único      1\n",
       "e607effad13a86ba3c6081ef6a4e                              1\n",
       "ca16b22079e4c90cf6f35a88d631                              1\n",
       "9054a051bc6ebbd5369fcb70ba2c                              1\n",
       "fa2e624f0b1f846726b8178b1f2f                              1\n",
       "b86a7785a915d7128ebe8930fa5c                              1\n",
       "b8e40068f9d962de1138af24bdc2                              1\n",
       "f37041d55bedf259f40d9ad81925                              1\n",
       "51ac639b37ec2c6bdf2dbb300b63                              1\n",
       "78db76b2ded15b02303e5b5c1ca1                              1\n",
       "6056edcad0eec0eb2f382f3da139                              1\n",
       "da88bb6550a97629b0f7113db720                              1\n",
       "194f4e5d4eabf24e1165646b7e6b                              1\n",
       "28c1823e9271d0f6a7bbfde0c3e1                              1\n",
       "9d5c27825b1100591154fc50fcfe                              1\n",
       "8da05e101663cda9a27bf32172f3                              1\n",
       "419d47dbc67822a24432368837fe                              1\n",
       "fcfc44b97179a00f7da3286a2ee4                              1\n",
       "9147039d3ae919b0ce45d7d51152                              1\n",
       "9cd55d931e96f6cec95609b1cb83                              1\n",
       "d245136a37e9b0d23b56bec59b8e                              1\n",
       "84f776982e73838fca38448d2a4a                              1\n",
       "5175945633d2a7781bf8b6eeff98                              1\n",
       "31700d3e43739bda7aafdf05d7f5                              1\n",
       "8965297ace2bde2f62d826b9e307                              1\n",
       "Name: encrypted_cnpj, Length: 1403, dtype: int64"
      ]
     },
     "execution_count": 37,
     "metadata": {},
     "output_type": "execute_result"
    }
   ],
   "source": [
    "dataFrame[\"encrypted_cnpj\"].value_counts()"
   ]
  },
  {
   "cell_type": "code",
   "execution_count": 38,
   "metadata": {},
   "outputs": [
    {
     "data": {
      "text/html": [
       "<div>\n",
       "<style scoped>\n",
       "    .dataframe tbody tr th:only-of-type {\n",
       "        vertical-align: middle;\n",
       "    }\n",
       "\n",
       "    .dataframe tbody tr th {\n",
       "        vertical-align: top;\n",
       "    }\n",
       "\n",
       "    .dataframe thead th {\n",
       "        text-align: right;\n",
       "    }\n",
       "</style>\n",
       "<table border=\"1\" class=\"dataframe\">\n",
       "  <thead>\n",
       "    <tr style=\"text-align: right;\">\n",
       "      <th></th>\n",
       "      <th>encrypted_domain</th>\n",
       "      <th>encrypted_cnpj</th>\n",
       "      <th>encrypted_saleid</th>\n",
       "      <th>dateTime</th>\n",
       "      <th>productTotal</th>\n",
       "      <th>prod_fullname</th>\n",
       "      <th>encrypted_buyer_cpf</th>\n",
       "      <th>encrypted_buyer_cnpj</th>\n",
       "    </tr>\n",
       "  </thead>\n",
       "  <tbody>\n",
       "    <tr>\n",
       "      <th>0</th>\n",
       "      <td>6139646137356433363237396637323937336161383832...</td>\n",
       "      <td>cd406b5d1bca06e7ea9cdc74e14b</td>\n",
       "      <td>3631623161353034646239396165326230306330383436...</td>\n",
       "      <td>2018-10-25T10:29:39.000Z</td>\n",
       "      <td>5.012793</td>\n",
       "      <td>gasolina comum</td>\n",
       "      <td>NaN</td>\n",
       "      <td>NaN</td>\n",
       "    </tr>\n",
       "    <tr>\n",
       "      <th>1</th>\n",
       "      <td>6139646137356433363237396637323937336161383832...</td>\n",
       "      <td>cd406b5d1bca06e7ea9cdc74e14b</td>\n",
       "      <td>3232373937633231396438383037313136363265376631...</td>\n",
       "      <td>2018-12-25T08:59:57.000Z</td>\n",
       "      <td>20.01401</td>\n",
       "      <td>gasolina comum</td>\n",
       "      <td>NaN</td>\n",
       "      <td>NaN</td>\n",
       "    </tr>\n",
       "    <tr>\n",
       "      <th>2</th>\n",
       "      <td>6139646137356433363237396637323937336161383832...</td>\n",
       "      <td>cd406b5d1bca06e7ea9cdc74e14b</td>\n",
       "      <td>6133613265623239376237636261323235396634303131...</td>\n",
       "      <td>2018-10-10T18:20:40.000Z</td>\n",
       "      <td>30.00407</td>\n",
       "      <td>gasolina comum</td>\n",
       "      <td>NaN</td>\n",
       "      <td>NaN</td>\n",
       "    </tr>\n",
       "    <tr>\n",
       "      <th>3</th>\n",
       "      <td>6139646137356433363237396637323937336161383832...</td>\n",
       "      <td>a74a729c7a3d3c0a6c6f59bb07c5</td>\n",
       "      <td>3164353334356338633062633132363130356437653966...</td>\n",
       "      <td>2018-11-14T15:51:32.000Z</td>\n",
       "      <td>20.022439</td>\n",
       "      <td>gasolina c aditivada</td>\n",
       "      <td>NaN</td>\n",
       "      <td>NaN</td>\n",
       "    </tr>\n",
       "    <tr>\n",
       "      <th>4</th>\n",
       "      <td>6139646137356433363237396637323937336161383832...</td>\n",
       "      <td>d70a72266986e5c2478a462887ca</td>\n",
       "      <td>6233613965636137313235633064306435373335356261...</td>\n",
       "      <td>2018-12-20T08:00:09.000Z</td>\n",
       "      <td>4.0</td>\n",
       "      <td>cafe c leite medio</td>\n",
       "      <td>NaN</td>\n",
       "      <td>NaN</td>\n",
       "    </tr>\n",
       "  </tbody>\n",
       "</table>\n",
       "</div>"
      ],
      "text/plain": [
       "                                    encrypted_domain  \\\n",
       "0  6139646137356433363237396637323937336161383832...   \n",
       "1  6139646137356433363237396637323937336161383832...   \n",
       "2  6139646137356433363237396637323937336161383832...   \n",
       "3  6139646137356433363237396637323937336161383832...   \n",
       "4  6139646137356433363237396637323937336161383832...   \n",
       "\n",
       "                 encrypted_cnpj  \\\n",
       "0  cd406b5d1bca06e7ea9cdc74e14b   \n",
       "1  cd406b5d1bca06e7ea9cdc74e14b   \n",
       "2  cd406b5d1bca06e7ea9cdc74e14b   \n",
       "3  a74a729c7a3d3c0a6c6f59bb07c5   \n",
       "4  d70a72266986e5c2478a462887ca   \n",
       "\n",
       "                                    encrypted_saleid  \\\n",
       "0  3631623161353034646239396165326230306330383436...   \n",
       "1  3232373937633231396438383037313136363265376631...   \n",
       "2  6133613265623239376237636261323235396634303131...   \n",
       "3  3164353334356338633062633132363130356437653966...   \n",
       "4  6233613965636137313235633064306435373335356261...   \n",
       "\n",
       "                   dateTime productTotal         prod_fullname  \\\n",
       "0  2018-10-25T10:29:39.000Z     5.012793        gasolina comum   \n",
       "1  2018-12-25T08:59:57.000Z     20.01401        gasolina comum   \n",
       "2  2018-10-10T18:20:40.000Z     30.00407        gasolina comum   \n",
       "3  2018-11-14T15:51:32.000Z    20.022439  gasolina c aditivada   \n",
       "4  2018-12-20T08:00:09.000Z          4.0    cafe c leite medio   \n",
       "\n",
       "  encrypted_buyer_cpf encrypted_buyer_cnpj  \n",
       "0                 NaN                  NaN  \n",
       "1                 NaN                  NaN  \n",
       "2                 NaN                  NaN  \n",
       "3                 NaN                  NaN  \n",
       "4                 NaN                  NaN  "
      ]
     },
     "execution_count": 38,
     "metadata": {},
     "output_type": "execute_result"
    }
   ],
   "source": [
    "dataFrame.head()"
   ]
  },
  {
   "cell_type": "code",
   "execution_count": 39,
   "metadata": {},
   "outputs": [
    {
     "data": {
      "text/plain": [
       "0        False\n",
       "1        False\n",
       "2        False\n",
       "3         True\n",
       "4        False\n",
       "5         True\n",
       "6         True\n",
       "7        False\n",
       "8        False\n",
       "9         True\n",
       "10       False\n",
       "11       False\n",
       "12       False\n",
       "13        True\n",
       "14       False\n",
       "15        True\n",
       "16        True\n",
       "17        True\n",
       "18       False\n",
       "19       False\n",
       "20        True\n",
       "21        True\n",
       "22       False\n",
       "23       False\n",
       "24        True\n",
       "25        True\n",
       "26        True\n",
       "27        True\n",
       "28       False\n",
       "29       False\n",
       "         ...  \n",
       "14985    False\n",
       "14986    False\n",
       "14987    False\n",
       "14988    False\n",
       "14989    False\n",
       "14990    False\n",
       "14991    False\n",
       "14992    False\n",
       "14993    False\n",
       "14994    False\n",
       "14995    False\n",
       "14996    False\n",
       "14997    False\n",
       "14998    False\n",
       "14999    False\n",
       "15000    False\n",
       "15001    False\n",
       "15002    False\n",
       "15003    False\n",
       "15004    False\n",
       "15005    False\n",
       "15006    False\n",
       "15007    False\n",
       "15008    False\n",
       "15009    False\n",
       "15010    False\n",
       "15011    False\n",
       "15012    False\n",
       "15013    False\n",
       "15014    False\n",
       "Name: encrypted_cnpj, Length: 15015, dtype: bool"
      ]
     },
     "execution_count": 39,
     "metadata": {},
     "output_type": "execute_result"
    }
   ],
   "source": [
    "dataFrame[] dataFrame[\"encrypted_cnpj\"] == \"a74a729c7a3d3c0a6c6f59bb07c5\""
   ]
  },
  {
   "cell_type": "code",
   "execution_count": null,
   "metadata": {},
   "outputs": [],
   "source": []
  }
 ],
 "metadata": {
  "kernelspec": {
   "display_name": "Python 2",
   "language": "python",
   "name": "python2"
  },
  "language_info": {
   "codemirror_mode": {
    "name": "ipython",
    "version": 2
   },
   "file_extension": ".py",
   "mimetype": "text/x-python",
   "name": "python",
   "nbconvert_exporter": "python",
   "pygments_lexer": "ipython2",
   "version": "2.7.15"
  }
 },
 "nbformat": 4,
 "nbformat_minor": 2
}
